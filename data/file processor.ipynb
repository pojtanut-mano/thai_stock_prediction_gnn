{
 "cells": [
  {
   "cell_type": "code",
   "execution_count": 1,
   "id": "level-physics",
   "metadata": {},
   "outputs": [],
   "source": [
    "import pandas as pd\n",
    "import numpy as np\n",
    "import datetime\n",
    "import os\n",
    "import re\n",
    "import pickle"
   ]
  },
  {
   "cell_type": "code",
   "execution_count": 2,
   "id": "sporting-system",
   "metadata": {},
   "outputs": [
    {
     "data": {
      "text/plain": [
       "0       ACG.BK\n",
       "1       AHC.BK\n",
       "2       AKR.BK\n",
       "3    AMARIN.BK\n",
       "4    AMATAV.BK\n",
       "Name: ticker, dtype: object"
      ]
     },
     "execution_count": 2,
     "metadata": {},
     "output_type": "execute_result"
    }
   ],
   "source": [
    "stock_init = pd.read_csv('stock_name.csv')['ticker']\n",
    "placeholder = pd.read_csv('placeholder.csv')\n",
    "placeholder['Date'] = pd.to_datetime(placeholder['Date']).astype(np.datetime64)\n",
    "placeholder = placeholder.set_index('Date')\n",
    "stock_init.head()"
   ]
  },
  {
   "cell_type": "code",
   "execution_count": 3,
   "id": "aggregate-location",
   "metadata": {},
   "outputs": [
    {
     "data": {
      "text/plain": [
       "['ACG_BK', 'AHC_BK', 'AKR_BK', 'AMARIN_BK', 'AMATAV_BK']"
      ]
     },
     "execution_count": 3,
     "metadata": {},
     "output_type": "execute_result"
    }
   ],
   "source": [
    "stock_name = stock_init.values.ravel()\n",
    "stock_name = [re.sub('\\.', '_', txt) for txt in stock_name]\n",
    "stock_name[:5]"
   ]
  },
  {
   "cell_type": "code",
   "execution_count": 8,
   "id": "interstate-bridal",
   "metadata": {
    "scrolled": true
   },
   "outputs": [
    {
     "name": "stdout",
     "output_type": "stream",
     "text": [
      "Not enough trading days (369 days) for ACG_BK\n",
      "Not enough trading days (1229 days) for AMATAV_BK\n",
      "Not enough trading days (915 days) for ASAP_BK\n",
      "Not enough trading days (587 days) for COTTO_BK\n",
      "Not enough trading days (1007 days) for FN_BK\n",
      "Not enough trading days (751 days) for GPI_BK\n",
      "Not enough trading days (1253 days) for J_BK\n",
      "Not enough trading days (5 days) for KEX_BK\n",
      "Not enough trading days (60 days) for MICRO_BK\n",
      "Not enough trading days (35 days) for NCAP_BK\n",
      "Not enough trading days (757 days) for PORT_BK\n",
      "Not enough trading days (994 days) for PSH_BK\n",
      "Not enough trading days (1427 days) for SCN_BK\n",
      "Not enough trading days (507 days) for SISB_BK\n",
      "Not enough trading days (758 days) for SKE_BK\n",
      "Not enough trading days (1381 days) for SLP_BK\n",
      "Not enough trading days (1020 days) for SQ_BK\n",
      "Not enough trading days (119 days) for STGT_BK\n",
      "Not enough trading days (0 days) for TGH_BK\n",
      "Not enough trading days (996 days) for TNR_BK\n",
      "Not enough trading days (1161 days) for TPBI_BK\n",
      "Not enough trading days (292 days) for CPW_BK\n",
      "Not enough trading days (1328 days) for NVD_BK\n",
      "Not enough trading days (1382 days) for PMTA_BK\n",
      "Not enough trading days (766 days) for RSP_BK\n",
      "Not enough trading days (31 days) for RT_BK\n",
      "Not enough trading days (748 days) for THG_BK\n",
      "Not enough trading days (365 days) for TTT_BK\n",
      "Not enough trading days (405 days) for VRANDA_BK\n",
      "Not enough trading days (1170 days) for 002789_SZ\n",
      "Not enough trading days (927 days) for 002852_SZ\n",
      "Not enough trading days (871 days) for 002878_SZ\n",
      "Not enough trading days (782 days) for 002905_SZ\n",
      "Not enough trading days (748 days) for 002913_SZ\n",
      "Not enough trading days (376 days) for 002956_SZ\n",
      "Not enough trading days (103 days) for 002991_SZ\n",
      "Not enough trading days (755 days) for 035900_KQ\n",
      "Not enough trading days (0 days) for 048550_KQ\n",
      "Not enough trading days (1103 days) for 1589_HK\n",
      "Not enough trading days (1107 days) for 1606_HK\n",
      "Not enough trading days (279 days) for 1747_HK\n",
      "Not enough trading days (457 days) for 2019_HK\n",
      "Not enough trading days (941 days) for 2630_TW\n",
      "Not enough trading days (1353 days) for 300471_SZ\n",
      "Not enough trading days (1133 days) for 300510_SZ\n",
      "Not enough trading days (958 days) for 300592_SZ\n",
      "Not enough trading days (377 days) for 300782_SZ\n",
      "Not enough trading days (271 days) for 300805_SZ\n",
      "Not enough trading days (87 days) for 300860_SZ\n",
      "Not enough trading days (1262 days) for 3799_HK\n",
      "Not enough trading days (686 days) for 600901_SS\n",
      "Not enough trading days (1352 days) for 601368_SS\n",
      "Not enough trading days (154 days) for 601778_SS\n",
      "Not enough trading days (784 days) for 603103_SS\n",
      "Not enough trading days (696 days) for 603156_SS\n",
      "Not enough trading days (164 days) for 603212_SS\n",
      "Not enough trading days (832 days) for 603233_SS\n",
      "Not enough trading days (789 days) for 603378_SS\n",
      "Not enough trading days (727 days) for 603477_SS\n",
      "Not enough trading days (596 days) for 603693_SS\n",
      "Not enough trading days (985 days) for 603708_SS\n",
      "Not enough trading days (211 days) for 603719_SS\n",
      "Not enough trading days (1000 days) for 603727_SS\n",
      "Not enough trading days (1406 days) for 603869_SS\n",
      "Not enough trading days (1372 days) for 603989_SS\n",
      "Not enough trading days (280 days) for 6186_HK\n",
      "Not enough trading days (558 days) for 6862_HK\n",
      "Not enough trading days (91 days) for 688519_SS\n",
      "Not enough trading days (77 days) for 9633_HK\n",
      "Not enough trading days (237 days) for 9968_HK\n",
      "Not enough trading days (548 days) for AAVAS_NS\n",
      "Not enough trading days (490 days) for ABSOF\n",
      "Not enough trading days (1333 days) for ADANITRANS_NS\n",
      "Not enough trading days (903 days) for ALD_AX\n",
      "Not enough trading days (795 days) for AQUA\n",
      "Not enough trading days (957 days) for ARD\n",
      "Not enough trading days (699 days) for ASTERDM_BO\n",
      "Not enough trading days (802 days) for ATO_VI\n",
      "Not enough trading days (1062 days) for AZRE\n",
      "Not enough trading days (875 days) for B4B_DE\n",
      "Not enough trading days (227 days) for BTBT\n",
      "Not enough trading days (60 days) for CAMS_NS\n",
      "Not enough trading days (863 days) for CDSL_NS\n",
      "Not enough trading days (0 days) for CMGR\n",
      "Not enough trading days (363 days) for CSTL\n",
      "Not enough trading days (987 days) for DFMFOODS_NS\n",
      "Not enough trading days (932 days) for DMART_BO\n",
      "Not enough trading days (52 days) for EAR\n",
      "Not enough trading days (0 days) for FAPA_JK\n",
      "Not enough trading days (790 days) for FINV\n",
      "Not enough trading days (697 days) for GHG\n",
      "Not enough trading days (663 days) for HEAL_JK\n",
      "Not enough trading days (892 days) for HUDCO_BO\n",
      "Not enough trading days (761 days) for LX\n",
      "Not enough trading days (387 days) for OKEA_OL\n",
      "Not enough trading days (1150 days) for POWR_JK\n",
      "Not enough trading days (515 days) for QFIN\n",
      "Not enough trading days (1273 days) for SHOT_ST\n",
      "Not enough trading days (0 days) for STE_SI\n",
      "Not enough trading days (808 days) for SW_VI\n",
      "Not enough trading days (275 days) for ACE_BK\n",
      "Not enough trading days (297 days) for AWC_BK\n",
      "Not enough trading days (254 days) for BAM_BK\n",
      "Not enough trading days (1039 days) for BCPG_BK\n",
      "Not enough trading days (842 days) for BGRIM_BK\n",
      "Not enough trading days (1018 days) for BPP_BK\n",
      "Not enough trading days (1317 days) for COM7_BK\n",
      "Not enough trading days (209 days) for CRC_BK\n",
      "Not enough trading days (343 days) for DOHOME_BK\n",
      "Not enough trading days (1374 days) for GPSC_BK\n",
      "Not enough trading days (749 days) for GULF_BK\n",
      "Not enough trading days (1276 days) for ORI_BK\n",
      "Not enough trading days (537 days) for OSP_BK\n",
      "Not enough trading days (1431 days) for PLANB_BK\n",
      "Not enough trading days (804 days) for PRM_BK\n",
      "Not enough trading days (289 days) for RBF_BK\n",
      "Not enough trading days (46 days) for SCGP_BK\n",
      "Not enough trading days (1234 days) for SPRC_BK\n",
      "Not enough trading days (1236 days) for TKN_BK\n",
      "Not enough trading days (786 days) for TOA_BK\n",
      "Not enough trading days (911 days) for TPIPP_BK\n",
      "Not enough trading days (494 days) for TQM_BK\n",
      "Not enough trading days (909 days) for WHAUP_BK\n",
      "Not enough trading days (4 days) for SA_BK\n",
      "Not enough trading days (1275 days) for TFG_BK\n",
      "Not enough trading days (1098 days) for ALT_BK\n",
      "Not enough trading days (536 days) for BGC_BK\n",
      "Not enough trading days (736 days) for DDD_BK\n",
      "Not enough trading days (1083 days) for EKH_BK\n",
      "Not enough trading days (872 days) for EP_BK\n",
      "Not enough trading days (896 days) for GGC_BK\n",
      "Not enough trading days (747 days) for HUMAN_BK\n",
      "Not enough trading days (813 days) for III_BK\n",
      "Not enough trading days (349 days) for ILM_BK\n",
      "Not enough trading days (752 days) for JKN_BK\n",
      "Not enough trading days (1282 days) for JWD_BK\n",
      "Not enough trading days (1262 days) for LPH_BK\n",
      "Not enough trading days (523 days) for NER_BK\n",
      "Not enough trading days (1407 days) for PLAT_BK\n",
      "Not enough trading days (529 days) for PR9_BK\n",
      "Not enough trading days (1058 days) for RJH_BK\n",
      "Not enough trading days (938 days) for RPH_BK\n",
      "Not enough trading days (1425 days) for S11_BK\n",
      "Not enough trading days (251 days) for SFLEX_BK\n",
      "Not enough trading days (276 days) for SHR_BK\n",
      "Not enough trading days (795 days) for SSP_BK\n",
      "Stock split: UTP_BK\n",
      "Not enough trading days (1325 days) for WICE_BK\n",
      "Not enough trading days (452 days) for ZEN_BK\n"
     ]
    }
   ],
   "source": [
    "full_trade_day = 1462\n",
    "processed_stock_name = []\n",
    "for stock in stock_name:\n",
    "    curr_stock = pd.read_csv(os.path.join(os.getcwd(), 'raw', 'price', stock + '.csv'))\n",
    "    trading_day = len(curr_stock)\n",
    "    curr_stock['Date'] = pd.to_datetime(curr_stock['Date']).astype(np.datetime64)\n",
    "    curr_stock = curr_stock.set_index('Date')\n",
    "    curr_stock = placeholder.join(curr_stock, on='Date', how='left')\n",
    "    curr_stock = curr_stock.fillna(method='ffill')\n",
    "    curr_stock['return'] = curr_stock['Close'].diff() / curr_stock['Close'].shift(periods=1)\n",
    "    curr_stock['log_return'] = np.log(curr_stock['Close'] / curr_stock['Close'].shift(periods=1))\n",
    "    curr_stock = curr_stock.drop(index=datetime.datetime(2015, 1, 5, 0, 0, 0))\n",
    "    if stock == 'UTP_BK':\n",
    "        print('Stock split: {}'.format(stock))\n",
    "        continue\n",
    "    if trading_day >= 0.98 * full_trade_day:\n",
    "        curr_stock.to_csv(os.path.join(os.getcwd(), 'processed', 'price', stock+'.csv'))\n",
    "        processed_stock_name.append(stock)\n",
    "    else:\n",
    "        print('Not enough trading days ({} days) for {}'.format(trading_day, stock))"
   ]
  },
  {
   "cell_type": "code",
   "execution_count": 9,
   "id": "incident-stewart",
   "metadata": {},
   "outputs": [
    {
     "data": {
      "text/html": [
       "<div>\n",
       "<style scoped>\n",
       "    .dataframe tbody tr th:only-of-type {\n",
       "        vertical-align: middle;\n",
       "    }\n",
       "\n",
       "    .dataframe tbody tr th {\n",
       "        vertical-align: top;\n",
       "    }\n",
       "\n",
       "    .dataframe thead th {\n",
       "        text-align: right;\n",
       "    }\n",
       "</style>\n",
       "<table border=\"1\" class=\"dataframe\">\n",
       "  <thead>\n",
       "    <tr style=\"text-align: right;\">\n",
       "      <th></th>\n",
       "      <th>tickers</th>\n",
       "    </tr>\n",
       "  </thead>\n",
       "  <tbody>\n",
       "    <tr>\n",
       "      <th>0</th>\n",
       "      <td>AHC_BK</td>\n",
       "    </tr>\n",
       "    <tr>\n",
       "      <th>1</th>\n",
       "      <td>AKR_BK</td>\n",
       "    </tr>\n",
       "    <tr>\n",
       "      <th>2</th>\n",
       "      <td>AMARIN_BK</td>\n",
       "    </tr>\n",
       "    <tr>\n",
       "      <th>3</th>\n",
       "      <td>AS_BK</td>\n",
       "    </tr>\n",
       "    <tr>\n",
       "      <th>4</th>\n",
       "      <td>AYUD_BK</td>\n",
       "    </tr>\n",
       "  </tbody>\n",
       "</table>\n",
       "</div>"
      ],
      "text/plain": [
       "     tickers\n",
       "0     AHC_BK\n",
       "1     AKR_BK\n",
       "2  AMARIN_BK\n",
       "3      AS_BK\n",
       "4    AYUD_BK"
      ]
     },
     "execution_count": 9,
     "metadata": {},
     "output_type": "execute_result"
    }
   ],
   "source": [
    "final_stock_name = pd.DataFrame({'tickers': processed_stock_name})\n",
    "final_stock_name.head()"
   ]
  },
  {
   "cell_type": "code",
   "execution_count": 10,
   "id": "listed-advancement",
   "metadata": {},
   "outputs": [],
   "source": [
    "final_stock_name.to_csv('tickers.csv', index=False)"
   ]
  },
  {
   "cell_type": "code",
   "execution_count": 11,
   "id": "parental-imagination",
   "metadata": {},
   "outputs": [],
   "source": [
    "with open(os.path.join('processed', 'relation', 'ordered_tickers.pkl'), 'wb') as f:\n",
    "    pickle.dump(processed_stock_name, f)"
   ]
  },
  {
   "cell_type": "code",
   "execution_count": null,
   "id": "indirect-douglas",
   "metadata": {},
   "outputs": [],
   "source": []
  }
 ],
 "metadata": {
  "kernelspec": {
   "display_name": "Python 3",
   "language": "python",
   "name": "python3"
  },
  "language_info": {
   "codemirror_mode": {
    "name": "ipython",
    "version": 3
   },
   "file_extension": ".py",
   "mimetype": "text/x-python",
   "name": "python",
   "nbconvert_exporter": "python",
   "pygments_lexer": "ipython3",
   "version": "3.8.5"
  }
 },
 "nbformat": 4,
 "nbformat_minor": 5
}
